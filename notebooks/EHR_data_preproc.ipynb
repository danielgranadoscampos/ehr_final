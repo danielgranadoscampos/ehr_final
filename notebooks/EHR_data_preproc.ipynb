{
  "nbformat": 4,
  "nbformat_minor": 0,
  "metadata": {
    "colab": {
      "provenance": []
    },
    "kernelspec": {
      "name": "python3",
      "display_name": "Python 3"
    },
    "language_info": {
      "name": "python"
    }
  },
  "cells": [
    {
      "cell_type": "code",
      "source": [
        "import pandas as pd\n",
        "\n",
        "# Load the CSV file into a pandas DataFrame\n",
        "try:\n",
        "  df = pd.read_csv('ehr_data_raw.csv')\n",
        "except FileNotFoundError:\n",
        "  print(\"Error: 'ehr_data_raw.csv' not found. Please upload the file or provide the correct path.\")\n",
        "  exit() # or handle the error differently, like prompting the user for the correct path\n",
        "\n",
        "# Display column names and data types\n",
        "print(df.info())\n",
        "print(df.head())\n",
        "\n",
        "\n",
        "# Convert 'STARDATE' and 'DOB' columns to datetime objects\n",
        "# Handle potential errors during conversion\n",
        "try:\n",
        "    df['STARTDATE'] = pd.to_datetime(df['STARTDATE'], errors='coerce')\n",
        "    df['DOB'] = pd.to_datetime(df['DOB'], errors='coerce')\n",
        "except KeyError as e:\n",
        "    print(f\"Error: Column '{e}' not found in the DataFrame.\")\n",
        "    exit()\n",
        "except Exception as e:\n",
        "    print(f\"An error occurred during date conversion: {e}\")\n",
        "    exit()\n",
        "\n",
        "# Handle unexplainable date of birth\n",
        "df = df[(df['DOB'] >= '1901-01-01')]\n",
        "# Calculate age\n",
        "df['AGE'] = (df['STARTDATE'] - df['DOB']).dt.days / 365.25\n",
        "\n",
        "\n",
        "print(df[['STARTDATE', 'DOB', 'AGE']].describe())\n",
        "print(df[['STARTDATE', 'DOB']].head())"
      ],
      "metadata": {
        "colab": {
          "base_uri": "https://localhost:8080/"
        },
        "id": "F18B0EvFrJyS",
        "outputId": "78fe2e4c-dfa1-417f-b942-f6ec5f4a1bf9"
      },
      "execution_count": 22,
      "outputs": [
        {
          "output_type": "stream",
          "name": "stdout",
          "text": [
            "<class 'pandas.core.frame.DataFrame'>\n",
            "RangeIndex: 10481 entries, 0 to 10480\n",
            "Data columns (total 8 columns):\n",
            " #   Column       Non-Null Count  Dtype \n",
            "---  ------       --------------  ----- \n",
            " 0   DRUG         10481 non-null  object\n",
            " 1   ROUTE        10481 non-null  object\n",
            " 2   DOSE_VAL_RX  10481 non-null  object\n",
            " 3   GENDER       10481 non-null  object\n",
            " 4   DOB          10481 non-null  object\n",
            " 5   STARTDATE    10441 non-null  object\n",
            " 6   INTIME       10481 non-null  object\n",
            " 7   DEATHTIME    2988 non-null   object\n",
            "dtypes: object(8)\n",
            "memory usage: 655.2+ KB\n",
            "None\n",
            "                     DRUG ROUTE DOSE_VAL_RX GENDER                      DOB  \\\n",
            "0           Metronidazole    PO         500      M  2047-04-04 00:00:00.000   \n",
            "1  Vancomycin Oral Liquid    PO         250      M  2047-04-04 00:00:00.000   \n",
            "2  Vancomycin Oral Liquid    PO         250      M  2047-04-04 00:00:00.000   \n",
            "3           Metronidazole    PO         500      M  2047-04-04 00:00:00.000   \n",
            "4            Levofloxacin    PO         250      M  2090-08-31 00:00:00.000   \n",
            "\n",
            "                 STARTDATE                   INTIME                DEATHTIME  \n",
            "0  2135-01-31 00:00:00.000  2135-01-30 20:53:34.000  2135-02-08 02:08:00.000  \n",
            "1  2135-02-01 00:00:00.000  2135-01-30 20:53:34.000  2135-02-08 02:08:00.000  \n",
            "2  2135-02-02 00:00:00.000  2135-01-30 20:53:34.000  2135-02-08 02:08:00.000  \n",
            "3  2135-02-02 00:00:00.000  2135-01-30 20:53:34.000  2135-02-08 02:08:00.000  \n",
            "4  2166-08-10 00:00:00.000  2166-08-10 00:29:36.000                      NaN  \n",
            "                           STARTDATE                            DOB  \\\n",
            "count                           9842                           9882   \n",
            "mean   2152-08-18 00:18:08.559236096  2089-06-20 13:23:21.092896256   \n",
            "min              2100-07-28 00:00:00            2014-04-27 00:00:00   \n",
            "25%              2128-08-03 00:00:00            2062-05-25 00:00:00   \n",
            "50%              2153-08-09 12:00:00            2090-01-03 00:00:00   \n",
            "75%              2176-09-30 00:00:00            2112-08-15 18:00:00   \n",
            "max              2209-08-04 00:00:00            2201-01-11 00:00:00   \n",
            "std                              NaN                            NaN   \n",
            "\n",
            "               AGE  \n",
            "count  9842.000000  \n",
            "mean     63.242798  \n",
            "min       0.339493  \n",
            "25%      53.216290  \n",
            "50%      64.492813  \n",
            "75%      75.520876  \n",
            "max      89.032170  \n",
            "std      15.022395  \n",
            "   STARTDATE        DOB\n",
            "0 2135-01-31 2047-04-04\n",
            "1 2135-02-01 2047-04-04\n",
            "2 2135-02-02 2047-04-04\n",
            "3 2135-02-02 2047-04-04\n",
            "4 2166-08-10 2090-08-31\n"
          ]
        }
      ]
    },
    {
      "cell_type": "code",
      "source": [
        "\n",
        "# Create the 'DEATH' column based on 'DEATHTIME'\n",
        "df['DEATH'] = df['DEATHTIME'].notna().astype(int)\n",
        "\n",
        "# Encode gender\n",
        "df['GENDER'] = df['GENDER'].map({'M': 0, 'F': 1})\n",
        "\n",
        "# Apply one-hot encoding to categorical features\n",
        "df = pd.get_dummies(df, columns=['ROUTE', 'DRUG'], drop_first=True)\n",
        "\n",
        "# Convert DOSE_VAL_RX to numeric, coercing errors to NaN\n",
        "df['DOSE_VAL_RX'] = pd.to_numeric(df['DOSE_VAL_RX'], errors='coerce')\n",
        "\n",
        "# Handle INTIME\n",
        "try:\n",
        "    df['INTIME'] = pd.to_datetime(df['INTIME'], errors='coerce')\n",
        "    df['ICU_DATE'] = df['INTIME'].dt.date\n",
        "    df['ICU_TIME'] = df['INTIME'].dt.time\n",
        "except KeyError:\n",
        "    print(\"Error: 'INTIME' column not found in the DataFrame.\")\n",
        "except Exception as e:\n",
        "    print(f\"An error occurred during INTIME processing: {e}\")"
      ],
      "metadata": {
        "id": "nmM19opMePNc"
      },
      "execution_count": 23,
      "outputs": []
    },
    {
      "cell_type": "code",
      "source": [
        "print(df.describe())"
      ],
      "metadata": {
        "colab": {
          "base_uri": "https://localhost:8080/"
        },
        "id": "CVIv-2mHhJ_j",
        "outputId": "3cf14026-938f-4a81-ca2a-c6705e72fe30"
      },
      "execution_count": 26,
      "outputs": [
        {
          "output_type": "stream",
          "name": "stdout",
          "text": [
            "       DOSE_VAL_RX       GENDER                            DOB  \\\n",
            "count  9837.000000  9882.000000                           9882   \n",
            "mean    380.703390     0.395568  2089-06-20 13:23:21.092896256   \n",
            "min       1.000000     0.000000            2014-04-27 00:00:00   \n",
            "25%     250.000000     0.000000            2062-05-25 00:00:00   \n",
            "50%     500.000000     0.000000            2090-01-03 00:00:00   \n",
            "75%     500.000000     1.000000            2112-08-15 18:00:00   \n",
            "max    2000.000000     1.000000            2201-01-11 00:00:00   \n",
            "std     221.058536     0.488997                            NaN   \n",
            "\n",
            "                           STARTDATE                         INTIME  \\\n",
            "count                           9842                           9882   \n",
            "mean   2152-08-18 00:18:08.559236096  2152-09-03 11:58:14.093200384   \n",
            "min              2100-07-28 00:00:00            2100-07-24 18:51:53   \n",
            "25%              2128-08-03 00:00:00  2128-08-15 09:53:29.249999872   \n",
            "50%              2153-08-09 12:00:00  2153-08-11 16:42:59.000000512   \n",
            "75%              2176-09-30 00:00:00  2176-09-28 17:42:20.999999488   \n",
            "max              2209-08-04 00:00:00            2209-07-31 13:52:39   \n",
            "std                              NaN                            NaN   \n",
            "\n",
            "               AGE        DEATH  \n",
            "count  9842.000000  9882.000000  \n",
            "mean     63.242798     0.282635  \n",
            "min       0.339493     0.000000  \n",
            "25%      53.216290     0.000000  \n",
            "50%      64.492813     0.000000  \n",
            "75%      75.520876     1.000000  \n",
            "max      89.032170     1.000000  \n",
            "std      15.022395     0.450303  \n"
          ]
        }
      ]
    },
    {
      "cell_type": "code",
      "source": [
        "print(df.head())"
      ],
      "metadata": {
        "colab": {
          "base_uri": "https://localhost:8080/"
        },
        "id": "3xgyajQAhM73",
        "outputId": "b7ab88a9-96e5-4ff5-d75b-d5137d6a7507"
      },
      "execution_count": 27,
      "outputs": [
        {
          "output_type": "stream",
          "name": "stdout",
          "text": [
            "   DOSE_VAL_RX  GENDER        DOB  STARTDATE              INTIME  \\\n",
            "0        500.0       0 2047-04-04 2135-01-31 2135-01-30 20:53:34   \n",
            "1        250.0       0 2047-04-04 2135-02-01 2135-01-30 20:53:34   \n",
            "2        250.0       0 2047-04-04 2135-02-02 2135-01-30 20:53:34   \n",
            "3        500.0       0 2047-04-04 2135-02-02 2135-01-30 20:53:34   \n",
            "4        250.0       0 2090-08-31 2166-08-10 2166-08-10 00:29:36   \n",
            "\n",
            "                 DEATHTIME        AGE  DEATH  ROUTE_BOTH EYES  ROUTE_G TUBE  \\\n",
            "0  2135-02-08 02:08:00.000  87.824778      1            False         False   \n",
            "1  2135-02-08 02:08:00.000  87.827515      1            False         False   \n",
            "2  2135-02-08 02:08:00.000  87.830253      1            False         False   \n",
            "3  2135-02-08 02:08:00.000  87.830253      1            False         False   \n",
            "4                      NaN  75.939767      0            False         False   \n",
            "\n",
            "   ...  DRUG_Vancomycin 25mg/mL Ophth Soln  DRUG_Vancomycin Enema  \\\n",
            "0  ...                               False                  False   \n",
            "1  ...                               False                  False   \n",
            "2  ...                               False                  False   \n",
            "3  ...                               False                  False   \n",
            "4  ...                               False                  False   \n",
            "\n",
            "   DRUG_Vancomycin HCl  DRUG_Vancomycin Oral Liquid  DRUG_linezolid  \\\n",
            "0                False                        False           False   \n",
            "1                False                         True           False   \n",
            "2                False                         True           False   \n",
            "3                False                        False           False   \n",
            "4                False                        False           False   \n",
            "\n",
            "   DRUG_tobramycin  DRUG_vancoMYCIN for inhalation  \\\n",
            "0            False                           False   \n",
            "1            False                           False   \n",
            "2            False                           False   \n",
            "3            False                           False   \n",
            "4            False                           False   \n",
            "\n",
            "   DRUG_vancoMYCIN for nasal inhalation    ICU_DATE  ICU_TIME  \n",
            "0                                 False  2135-01-30  20:53:34  \n",
            "1                                 False  2135-01-30  20:53:34  \n",
            "2                                 False  2135-01-30  20:53:34  \n",
            "3                                 False  2135-01-30  20:53:34  \n",
            "4                                 False  2166-08-10  00:29:36  \n",
            "\n",
            "[5 rows x 85 columns]\n"
          ]
        }
      ]
    }
  ]
}